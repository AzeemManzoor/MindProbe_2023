{
 "cells": [
  {
   "cell_type": "code",
   "execution_count": 1,
   "id": "2e4e048b",
   "metadata": {},
   "outputs": [],
   "source": [
    "import pandas as pd\n",
    "import numpy as np\n",
    "#Collection of text Document into matrix of token count\n",
    "from sklearn.feature_extraction.text import CountVectorizer\n",
    "\n",
    "#import different ML classifiers\n",
    "from sklearn.model_selection import train_test_split\n",
    "from sklearn.naive_bayes import MultinomialNB\n",
    "from sklearn import preprocessing\n",
    "from sklearn.naive_bayes import GaussianNB, BernoulliNB, MultinomialNB\n",
    "from sklearn.svm import SVC, LinearSVC\n",
    "from sklearn.linear_model import LogisticRegression\n",
    "from sklearn.tree import DecisionTreeClassifier\n",
    "from sklearn.ensemble import RandomForestClassifier\n",
    "from sklearn.neural_network import MLPClassifier\n",
    "from sklearn.neighbors import KNeighborsClassifier\n",
    "\n",
    "#import ML evaluation metrics\n",
    "from sklearn.metrics import accuracy_score, f1_score\n",
    "from sklearn.model_selection import train_test_split\n",
    "from sklearn import metrics, model_selection\n",
    "\n",
    "#import scikitplot to plot confusion matrix\n",
    "import scikitplot as skplt\n",
    "from sklearn.metrics import classification_report,confusion_matrix\n"
   ]
  },
  {
   "cell_type": "code",
   "execution_count": 33,
   "id": "bd91b5f4",
   "metadata": {},
   "outputs": [
    {
     "data": {
      "text/html": [
       "<div>\n",
       "<style scoped>\n",
       "    .dataframe tbody tr th:only-of-type {\n",
       "        vertical-align: middle;\n",
       "    }\n",
       "\n",
       "    .dataframe tbody tr th {\n",
       "        vertical-align: top;\n",
       "    }\n",
       "\n",
       "    .dataframe thead th {\n",
       "        text-align: right;\n",
       "    }\n",
       "</style>\n",
       "<table border=\"1\" class=\"dataframe\">\n",
       "  <thead>\n",
       "    <tr style=\"text-align: right;\">\n",
       "      <th></th>\n",
       "      <th>type</th>\n",
       "      <th>posts</th>\n",
       "    </tr>\n",
       "  </thead>\n",
       "  <tbody>\n",
       "    <tr>\n",
       "      <th>0</th>\n",
       "      <td>INTJ</td>\n",
       "      <td>make peace everyone like make people happy sta...</td>\n",
       "    </tr>\n",
       "    <tr>\n",
       "      <th>1</th>\n",
       "      <td>INTJ</td>\n",
       "      <td>follow point logic something people divorce fe...</td>\n",
       "    </tr>\n",
       "    <tr>\n",
       "      <th>2</th>\n",
       "      <td>INTJ</td>\n",
       "      <td>never maliciously say evidently lot outgo youn...</td>\n",
       "    </tr>\n",
       "    <tr>\n",
       "      <th>3</th>\n",
       "      <td>INTJ</td>\n",
       "      <td>though think happy long time start find attrac...</td>\n",
       "    </tr>\n",
       "    <tr>\n",
       "      <th>4</th>\n",
       "      <td>INTJ</td>\n",
       "      <td>time ahough one close friend genuinely enjoy s...</td>\n",
       "    </tr>\n",
       "  </tbody>\n",
       "</table>\n",
       "</div>"
      ],
      "text/plain": [
       "   type                                              posts\n",
       "0  INTJ  make peace everyone like make people happy sta...\n",
       "1  INTJ  follow point logic something people divorce fe...\n",
       "2  INTJ  never maliciously say evidently lot outgo youn...\n",
       "3  INTJ  though think happy long time start find attrac...\n",
       "4  INTJ  time ahough one close friend genuinely enjoy s..."
      ]
     },
     "execution_count": 33,
     "metadata": {},
     "output_type": "execute_result"
    }
   ],
   "source": [
    "# data = pd.read_csv(\"https://raw.githubusercontent.com/amankharwal/website-data/master/dataset.csv\")\n",
    "data = pd.read_csv(\"dataset.csv\")\n",
    "data.head()"
   ]
  },
  {
   "cell_type": "code",
   "execution_count": 3,
   "id": "257b8f5a",
   "metadata": {},
   "outputs": [],
   "source": [
    "data = data.drop(['Unnamed: 2', 'Unnamed: 3','Unnamed: 4'], axis=1)"
   ]
  },
  {
   "cell_type": "code",
   "execution_count": null,
   "id": "4cfdf27b",
   "metadata": {},
   "outputs": [],
   "source": [
    "data"
   ]
  },
  {
   "cell_type": "code",
   "execution_count": null,
   "id": "11d139db",
   "metadata": {},
   "outputs": [],
   "source": [
    "# Shuffle the dataframe\n",
    "data = data.sample(frac=1).reset_index(drop=True)\n",
    "data"
   ]
  },
  {
   "cell_type": "code",
   "execution_count": null,
   "id": "9ac5661e",
   "metadata": {},
   "outputs": [],
   "source": [
    "data.info()    #dataset do not contain any null value"
   ]
  },
  {
   "cell_type": "code",
   "execution_count": null,
   "id": "68fcae95",
   "metadata": {},
   "outputs": [],
   "source": [
    "data.isnull().sum()           # returns the number of missing values in the data set."
   ]
  },
  {
   "cell_type": "code",
   "execution_count": 34,
   "id": "6149fd13",
   "metadata": {},
   "outputs": [
    {
     "data": {
      "text/plain": [
       "INTP    16236\n",
       "INTJ    15274\n",
       "INFJ    14963\n",
       "INFP    12134\n",
       "ENTP    11725\n",
       "ENFP     6842\n",
       "ISTP     3761\n",
       "ENTJ     3186\n",
       "ESTP     2075\n",
       "ENFJ     1723\n",
       "ISTJ     1448\n",
       "ISFP     1146\n",
       "ISFJ      816\n",
       "ESTJ      521\n",
       "ESFP      408\n",
       "ESFJ      223\n",
       "Name: type, dtype: int64"
      ]
     },
     "execution_count": 34,
     "metadata": {},
     "output_type": "execute_result"
    }
   ],
   "source": [
    "data[\"type\"].value_counts()"
   ]
  },
  {
   "cell_type": "code",
   "execution_count": 35,
   "id": "6ab59bdb",
   "metadata": {},
   "outputs": [],
   "source": [
    "x = data[\"posts\"]\n",
    "y = data[\"type\"]"
   ]
  },
  {
   "cell_type": "code",
   "execution_count": 36,
   "id": "50330c91",
   "metadata": {},
   "outputs": [],
   "source": [
    "data=x\n",
    "target=y"
   ]
  },
  {
   "cell_type": "code",
   "execution_count": 37,
   "id": "48f88e0d",
   "metadata": {},
   "outputs": [
    {
     "data": {
      "text/plain": [
       "<92481x239455 sparse matrix of type '<class 'numpy.int64'>'\n",
       "\twith 30317787 stored elements in Compressed Sparse Row format>"
      ]
     },
     "execution_count": 37,
     "metadata": {},
     "output_type": "execute_result"
    }
   ],
   "source": [
    "CV = CountVectorizer()\n",
    "X = CV.fit_transform(x)\n",
    "X"
   ]
  },
  {
   "cell_type": "code",
   "execution_count": 38,
   "id": "f0c3d9f4",
   "metadata": {},
   "outputs": [],
   "source": [
    "#Split Train Test function\n",
    "X_train, X_test, y_train, y_test = train_test_split(X, y, test_size=0.33, random_state=42)\n"
   ]
  },
  {
   "cell_type": "code",
   "execution_count": null,
   "id": "4a9de7b4",
   "metadata": {},
   "outputs": [],
   "source": [
    "# Models\n"
   ]
  },
  {
   "cell_type": "code",
   "execution_count": null,
   "id": "d67c3bc9",
   "metadata": {},
   "outputs": [],
   "source": [
    "# MultinomialNB                          #0.6580007427934749\n",
    "import warnings\n",
    "warnings.filterwarnings('ignore')\n",
    "model = MultinomialNB()\n",
    "model.fit(X_train, y_train)\n",
    "pred = model.predict(X_test)\n",
    "#calcualte and print accuracy\n",
    "model_acc = accuracy_score(y_test, pred)*100\n",
    "print(\"MultinomialNB:\")\n",
    "print(classification_report(y_test, pred))\n",
    "#draw confusion matrix using sci-kit plot\n",
    "skplt.metrics.plot_confusion_matrix( y_test,pred, normalize=False, title=\"Confusion Matrix\", cmap=\"Blues\",figsize=(23,23))\n",
    "print()"
   ]
  },
  {
   "cell_type": "code",
   "execution_count": null,
   "id": "ccdc5034",
   "metadata": {},
   "outputs": [],
   "source": [
    "# SVC\n",
    "import warnings\n",
    "warnings.filterwarnings('ignore')\n",
    "model = SVC()\n",
    "model.fit(X_train, y_train)\n",
    "pred = model.predict(X_test)\n",
    "#calcualte and print accuracy\n",
    "model_acc = accuracy_score(y_test, pred)*100\n",
    "print(\"SVC:\")\n",
    "print(classification_report(y_test, pred))\n",
    "#draw confusion matrix using sci-kit plot\n",
    "skplt.metrics.plot_confusion_matrix( y_test,pred, normalize=False, title=\"Confusion Matrix\", cmap=\"Blues\",figsize=(23,23))\n",
    "print()"
   ]
  },
  {
   "cell_type": "code",
   "execution_count": null,
   "id": "012aa267",
   "metadata": {},
   "outputs": [],
   "source": [
    "# BernoulliNB                           #0.6006628003314002\n",
    "import warnings\n",
    "warnings.filterwarnings('ignore')\n",
    "model = BernoulliNB()\n",
    "model.fit(X_train, y_train)\n",
    "pred = model.predict(X_test)\n",
    "#calcualte and print accuracy\n",
    "model_acc = accuracy_score(y_test, pred)*100\n",
    "print(str(model_acc))\n",
    "print(\"BernoulliNB:\")\n",
    "print(classification_report(y_test, pred))\n",
    "#draw confusion matrix using sci-kit plot\n",
    "skplt.metrics.plot_confusion_matrix( y_test,pred, normalize=False, title=\"Confusion Matrix\", cmap=\"Blues\",figsize=(23,23))\n",
    "print()"
   ]
  },
  {
   "cell_type": "code",
   "execution_count": null,
   "id": "940d49b1",
   "metadata": {},
   "outputs": [],
   "source": [
    "# # GaussianNB\n",
    "# import warnings\n",
    "# warnings.filterwarnings('ignore')\n",
    "\n",
    "# import warnings\n",
    "# warnings.filterwarnings('ignore')\n",
    "\n",
    "# from scipy.sparse import csr_matrix\n",
    "\n",
    "# # Convert X_train and X_test to dense numpy arrays\n",
    "# X_train_dense = X_train.toarray()\n",
    "# X_test_dense = X_test.toarray()\n",
    "\n",
    "# # Train the model\n",
    "# model = GaussianNB()\n",
    "# model.fit(X_train_dense, y_train)\n",
    "\n",
    "# # Make predictions\n",
    "# pred = model.predict(X_test_dense)\n",
    "\n",
    "# print(\"GaussianNB:\")\n",
    "# model_acc = accuracy_score(y_test, pred) * 100\n",
    "# print(classification_report(y_test, pred))\n",
    "# print(confusion_matrix(y_test, pred))\n",
    "# print()\n"
   ]
  },
  {
   "cell_type": "code",
   "execution_count": 39,
   "id": "59c05895",
   "metadata": {},
   "outputs": [
    {
     "name": "stdout",
     "output_type": "stream",
     "text": [
      "LogisticRegression:\n",
      "              precision    recall  f1-score   support\n",
      "\n",
      "        ENFJ       0.72      0.61      0.66       596\n",
      "        ENFP       0.72      0.75      0.74      2254\n",
      "        ENTJ       0.78      0.71      0.74      1075\n",
      "        ENTP       0.82      0.82      0.82      3847\n",
      "        ESFJ       0.56      0.39      0.46        76\n",
      "        ESFP       0.70      0.57      0.63       143\n",
      "        ESTJ       0.93      0.74      0.82       171\n",
      "        ESTP       0.94      0.85      0.89       647\n",
      "        INFJ       0.81      0.82      0.81      5001\n",
      "        INFP       0.78      0.80      0.79      3974\n",
      "        INTJ       0.78      0.81      0.80      5000\n",
      "        INTP       0.79      0.82      0.80      5286\n",
      "        ISFJ       0.74      0.41      0.53       271\n",
      "        ISFP       0.61      0.56      0.58       376\n",
      "        ISTJ       0.73      0.58      0.64       513\n",
      "        ISTP       0.76      0.74      0.75      1289\n",
      "\n",
      "    accuracy                           0.79     30519\n",
      "   macro avg       0.76      0.68      0.72     30519\n",
      "weighted avg       0.78      0.79      0.78     30519\n",
      "\n",
      "\n"
     ]
    },
    {
     "data": {
      "image/png": "[encoded data removed]",
      "text/plain": [
       "<Figure size 1656x1656 with 2 Axes>"
      ]
     },
     "metadata": {
      "needs_background": "light"
     },
     "output_type": "display_data"
    }
   ],
   "source": [
    "# LogisticRegression\n",
    "import warnings\n",
    "warnings.filterwarnings('ignore')\n",
    "model = LogisticRegression()\n",
    "model.fit(X_train, y_train)\n",
    "pred = model.predict(X_test)\n",
    "print(\"LogisticRegression:\")\n",
    "#calcualte and print accuracy\n",
    "model_acc = accuracy_score(y_test, pred)*100\n",
    "print(classification_report(y_test, pred))\n",
    "#draw confusion matrix using sci-kit plot\n",
    "skplt.metrics.plot_confusion_matrix( y_test,pred, normalize=False, title=\"Confusion Matrix\", cmap=\"Blues\",figsize=(23,23))\n",
    "print()"
   ]
  },
  {
   "cell_type": "code",
   "execution_count": null,
   "id": "02ffe4cb",
   "metadata": {},
   "outputs": [],
   "source": [
    "# RandomForestClassifier                     #52%\n",
    "import warnings\n",
    "warnings.filterwarnings('ignore')\n",
    "model = RandomForestClassifier()\n",
    "model.fit(X_train, y_train)\n",
    "pred = model.predict(X_test)\n",
    "print(\"RandomForestClassifier:\")\n",
    "#calcualte and print accuracy\n",
    "model_acc = accuracy_score(y_test, pred)*100\n",
    "print(classification_report(y_test, pred))\n",
    "#draw confusion matrix using sci-kit plot\n",
    "skplt.metrics.plot_confusion_matrix( y_test,pred, normalize=False, title=\"Confusion Matrix\", cmap=\"Blues\",figsize=(23,23))\n",
    "print()"
   ]
  },
  {
   "cell_type": "code",
   "execution_count": null,
   "id": "5bc2ad19",
   "metadata": {},
   "outputs": [],
   "source": [
    "# DecisionTreeClassifier                         #59.9%\n",
    "import warnings\n",
    "warnings.filterwarnings('ignore')\n",
    "model = DecisionTreeClassifier()\n",
    "model.fit(X_train, y_train)\n",
    "pred = model.predict(X_test)\n",
    "print(\"DecisionTreeClassifier:\")\n",
    "#calcualte and print accuracy\n",
    "model_acc = accuracy_score(y_test, pred)*100\n",
    "print(classification_report(y_test, pred))\n",
    "#draw confusion matrix using sci-kit plot\n",
    "skplt.metrics.plot_confusion_matrix( y_test,pred, normalize=False, title=\"Confusion Matrix\", cmap=\"Blues\",figsize=(23,23))\n",
    "print()\n"
   ]
  },
  {
   "cell_type": "code",
   "execution_count": null,
   "id": "5091b554",
   "metadata": {},
   "outputs": [],
   "source": [
    "# # MLPClassifier                         #0.802788332428649\n",
    "# import warnings\n",
    "# warnings.filterwarnings('ignore')\n",
    "# model = MLPClassifier()\n",
    "# model.fit(X_train.toarray(), y_train)  # Convert sparse matrix to dense array\n",
    "# pred = model.predict(X_test.toarray())  # Convert sparse matrix to dense array\n",
    "# print(\"MLPClassifier:\")\n",
    "# #calcualte and print accuracy\n",
    "# model_acc = accuracy_score(y_test, pred)*100\n",
    "# print(classification_report(y_test, pred))\n",
    "# #draw confusion matrix using sci-kit plot\n",
    "# skplt.metrics.plot_confusion_matrix( y_test,pred, normalize=False, title=\"Confusion Matrix\", cmap=\"Blues\",figsize=(23,23))\n",
    "# print()"
   ]
  },
  {
   "cell_type": "code",
   "execution_count": null,
   "id": "ce5a64c6",
   "metadata": {},
   "outputs": [],
   "source": [
    "# KNeighborsClassifier\n",
    "import warnings\n",
    "warnings.filterwarnings('ignore')\n",
    "model = KNeighborsClassifier(n_neighbors=4)\n",
    "model.fit(X_train, y_train)\n",
    "pred = model.predict(X_test)\n",
    "print(\"KNeighborsClassifier:\")\n",
    "#calcualte and print accuracy\n",
    "model_acc = accuracy_score(y_test, pred)*100\n",
    "print(classification_report(y_test, pred))\n",
    "#draw confusion matrix using sci-kit plot\n",
    "skplt.metrics.plot_confusion_matrix( y_test,pred, normalize=False, title=\"Confusion Matrix\", cmap=\"Blues\",figsize=(23,23))\n",
    "print()"
   ]
  },
  {
   "cell_type": "code",
   "execution_count": null,
   "id": "adb73192",
   "metadata": {},
   "outputs": [],
   "source": [
    "# LinearSVC\n",
    "import warnings\n",
    "warnings.filterwarnings('ignore')\n",
    "model = LinearSVC()\n",
    "model.fit(X_train, y_train)\n",
    "pred = model.predict(X_test)\n",
    "print(\"LinearSVC:\")\n",
    "#calcualte and print accuracy\n",
    "model_acc = accuracy_score(y_test, pred)*100\n",
    "print(classification_report(y_test, pred))\n",
    "#draw confusion matrix using sci-kit plot\n",
    "skplt.metrics.plot_confusion_matrix( y_test,pred, normalize=False, title=\"Confusion Matrix\", cmap=\"Blues\",figsize=(23,23))\n",
    "print()"
   ]
  },
  {
   "cell_type": "code",
   "execution_count": 40,
   "id": "d07ec01d",
   "metadata": {},
   "outputs": [
    {
     "name": "stdout",
     "output_type": "stream",
     "text": [
      "Enter Text: You are fucking bad boy . I want to fire you dick boy \n",
      "Type of Person is  ['ENFP']\n"
     ]
    }
   ],
   "source": [
    "user = input(\"Enter Text: \")\n",
    "entered_data = CV.transform([user]).toarray()\n",
    "output=model.predict(entered_data)\n",
    "print(\"Type of Person is \",output)"
   ]
  },
  {
   "cell_type": "code",
   "execution_count": null,
   "id": "f0dc772f",
   "metadata": {},
   "outputs": [],
   "source": [
    "# I willuse this clean dataset for testing on above models\n",
    "import pandas as pd\n",
    "import re\n",
    "\n",
    "\n",
    "df = pd.read_csv(\"mbti_1.csv\")\n",
    "\n",
    "# Remove links from the 'posts' column\n",
    "df['posts'] = df['posts'].apply(lambda x: re.sub(r'http\\S+|www.\\S+', '', x))\n",
    "\n",
    "# Remove irrelevant information\n",
    "# Example: Remove '|||' and subsequent text in 'posts' column\n",
    "df['posts'] = df['posts'].apply(lambda x: re.split(r'\\|\\|\\|', x)[0])\n",
    "\n",
    "# Save the cleaned data to a new CSV file\n",
    "df.to_csv('cleaned_data.csv', index=False)\n",
    "\n",
    "print(\"Data cleaning completed. Cleaned data saved to 'cleaned_data.csv'.\")\n"
   ]
  },
  {
   "cell_type": "code",
   "execution_count": null,
   "id": "47be45ab",
   "metadata": {},
   "outputs": [],
   "source": []
  },
  {
   "cell_type": "code",
   "execution_count": null,
   "id": "3aaee370",
   "metadata": {},
   "outputs": [],
   "source": []
  },
  {
   "cell_type": "code",
   "execution_count": 32,
   "id": "5c7bb533",
   "metadata": {},
   "outputs": [],
   "source": [
    "import pandas as pd\n",
    "\n",
    "# Load your dataset into a pandas DataFrame\n",
    "df = pd.read_csv('cleaned_data.csv')  # Replace 'your_dataset.csv' with the actual file path\n",
    "\n",
    "# Define the target personality type\n",
    "target_type = 'ENFP'  # Replace 'INTJ' with your desired personality type\n",
    "\n",
    "# Select rows with the same personality type\n",
    "selected_rows = df[df['type'] == target_type]\n",
    "\n",
    "# Get the parallel columns for the selected rows\n",
    "parallel_columns = selected_rows['posts']\n",
    "\n",
    "# Create a new DataFrame with the selected rows and parallel columns\n",
    "selected_data = pd.DataFrame({\n",
    "    'type': selected_rows['type'],\n",
    "    'posts': parallel_columns\n",
    "})\n",
    "\n",
    "# Save the selected data to a new CSV file\n",
    "selected_data.to_csv('enfp.csv', index=False)  # Replace 'selected_data.csv' with the desired file name\n"
   ]
  },
  {
   "cell_type": "code",
   "execution_count": null,
   "id": "3c42beb2",
   "metadata": {},
   "outputs": [],
   "source": []
  }
 ],
 "metadata": {
  "kernelspec": {
   "display_name": "Python 3 (ipykernel)",
   "language": "python",
   "name": "python3"
  },
  "language_info": {
   "codemirror_mode": {
    "name": "ipython",
    "version": 3
   },
   "file_extension": ".py",
   "mimetype": "text/x-python",
   "name": "python",
   "nbconvert_exporter": "python",
   "pygments_lexer": "ipython3",
   "version": "3.9.12"
  },
  "nbTranslate": {
   "displayLangs": [
    "*"
   ],
   "hotkey": "alt-t",
   "langInMainMenu": true,
   "sourceLang": "en",
   "targetLang": "fr",
   "useGoogleTranslate": true
  },
  "toc": {
   "base_numbering": 1,
   "nav_menu": {},
   "number_sections": true,
   "sideBar": true,
   "skip_h1_title": false,
   "title_cell": "Table of Contents",
   "title_sidebar": "Contents",
   "toc_cell": false,
   "toc_position": {},
   "toc_section_display": true,
   "toc_window_display": false
  }
 },
 "nbformat": 4,
 "nbformat_minor": 5
}
